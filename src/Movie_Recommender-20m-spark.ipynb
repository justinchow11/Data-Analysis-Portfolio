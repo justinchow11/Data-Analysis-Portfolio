{
 "cells": [
  {
   "cell_type": "markdown",
   "metadata": {},
   "source": [
    "# Latent Factor Collaborative Filtering Recommender System - \n",
    "## MovieLens Database"
   ]
  },
  {
   "cell_type": "markdown",
   "metadata": {},
   "source": [
    "## Latent Factor Based Methods"
   ]
  },
  {
   "cell_type": "markdown",
   "metadata": {},
   "source": [
    "### ALS"
   ]
  },
  {
   "cell_type": "code",
   "execution_count": 8,
   "metadata": {},
   "outputs": [],
   "source": [
    "from pyspark.shell import spark\n",
    "from pyspark.sql import SparkSession\n",
    "import pyspark.sql.functions as func\n",
    "from pyspark.sql import Row\n",
    "import pyspark.sql.types as typ\n",
    "from pyspark.ml.evaluation import RegressionEvaluator\n",
    "from pyspark.ml.recommendation import ALS\n",
    "\n",
    "spark = SparkSession \\\n",
    "    .builder \\\n",
    "    .appName(\"test\") \\\n",
    "    .getOrCreate()"
   ]
  },
  {
   "cell_type": "code",
   "execution_count": 2,
   "metadata": {
    "collapsed": true
   },
   "outputs": [],
   "source": [
    "ratings_label = [('userId', typ.IntegerType()),\n",
    "                  ('movieId', typ.IntegerType()),\n",
    "                  ('rating', typ.FloatType()),\n",
    "                  ('timestamp', typ.IntegerType())]\n",
    "\n",
    "schema_ratings = typ.StructType([typ.StructField(e[0], e[1]) for e in ratings_label])"
   ]
  },
  {
   "cell_type": "code",
   "execution_count": 3,
   "metadata": {
    "collapsed": true
   },
   "outputs": [],
   "source": [
    "# ratings = spark.read.csv(\"data/ratings20.csv\", schema=schema_ratings, header=True)"
   ]
  },
  {
   "cell_type": "code",
   "execution_count": 68,
   "metadata": {
    "collapsed": true
   },
   "outputs": [],
   "source": [
    "movies = spark.read.csv(\"data/movies20.csv\", header=True)"
   ]
  },
  {
   "cell_type": "code",
   "execution_count": 19,
   "metadata": {
    "collapsed": true
   },
   "outputs": [],
   "source": [
    "movies = movies.select(movies.movieId.alias('movieid2'), movies.title)"
   ]
  },
  {
   "cell_type": "code",
   "execution_count": 20,
   "metadata": {},
   "outputs": [
    {
     "name": "stdout",
     "output_type": "stream",
     "text": [
      "+--------+--------------------+\n",
      "|movieid2|               title|\n",
      "+--------+--------------------+\n",
      "|       1|    Toy Story (1995)|\n",
      "|       2|      Jumanji (1995)|\n",
      "|       3|Grumpier Old Men ...|\n",
      "|       4|Waiting to Exhale...|\n",
      "|       5|Father of the Bri...|\n",
      "+--------+--------------------+\n",
      "only showing top 5 rows\n",
      "\n"
     ]
    }
   ],
   "source": [
    "movies.show(5)"
   ]
  },
  {
   "cell_type": "code",
   "execution_count": 4,
   "metadata": {},
   "outputs": [
    {
     "data": {
      "text/plain": [
       "200"
      ]
     },
     "execution_count": 4,
     "metadata": {},
     "output_type": "execute_result"
    }
   ],
  {
   "cell_type": "code",
   "execution_count": 24,
   "metadata": {
    "collapsed": true
   },
   "outputs": [],
   "source": [
    "ratings_title = ratings.join(movies, ratings.movieId == movies.movieid2)"
   ]
  },
  {
   "cell_type": "code",
   "execution_count": 26,
   "metadata": {
    "collapsed": true
   },
   "outputs": [],
   "source": [
    "ratings_title = ratings_title.select(ratings_title.userId, ratings_title.movieId,\n",
    "                                     ratings_title.rating, ratings_title.title)"
   ]
  },
  {
   "cell_type": "code",
   "execution_count": 27,
   "metadata": {
    "collapsed": true
   },
   "outputs": [],
   "source": [
    "(training, test) = ratings.randomSplit([0.8, 0.2])\n",
    "training.cache()\n",
    "test.cache()\n",
    "\n",
    "evaluator = RegressionEvaluator(metricName=\"rmse\", labelCol=\"rating\", predictionCol=\"prediction\")"
   ]
  },
  {
   "cell_type": "markdown",
   "metadata": {},
   "source": [
    "### Optimization of ALS Parameters"
   ]
  },
  {
   "cell_type": "code",
   "execution_count": 16,
   "metadata": {
    "collapsed": true
   },
   "outputs": [],
   "source": [
    "regParams = [0.001, 0.01, 0.1, 1]"
   ]
  },
  {
   "cell_type": "code",
   "execution_count": 7,
   "metadata": {
    "collapsed": true
   },
   "outputs": [],
   "source": [
    "out1 = [evaluator.evaluate(ALS(maxIter=10, regParam=x, implicitPrefs=False, alpha=1, rank=10,\n",
    "                              userCol=\"userId\", itemCol=\"movieId\", ratingCol=\"rating\",\n",
    "                              coldStartStrategy=\"drop\", seed=69) \\\n",
    "                            .fit(training).transform(test)) \\\n",
    "                            for x in regParams]"
   ]
  },
  {
   "cell_type": "code",
   "execution_count": 64,
   "metadata": {},
   "outputs": [
    {
     "name": "stdout",
     "output_type": "stream",
     "text": [
      "RMSE on Test with Regularization at 0.001 : 1.338930\n",
      "RMSE on Test with Regularization at 0.01 : 1.162142\n",
      "RMSE on Test with Regularization at 0.1 : 0.917396\n",
      "RMSE on Test with Regularization at 1 : 1.332803\n"
     ]
    }
   ],
   "source": [
    "for i,v in enumerate(regParams):\n",
    "    print (\"RMSE on Test with Regularization at\", v, \": {:4.6f}\".format(out1[i]))"
   ]
  },
  {
   "cell_type": "code",
   "execution_count": 57,
   "metadata": {},
   "outputs": [
    {
     "data": {
      "text/plain": [
       "Text(0,0.5,'RMSE')"
      ]
     },
     "execution_count": 57,
     "metadata": {},
     "output_type": "execute_result"
    },
    {
     "data": {
      "image/png": "iVBORw0KGgoAAAANSUhEUgAAAYAAAAEICAYAAABWJCMKAAAABHNCSVQICAgIfAhkiAAAAAlwSFlz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\nXtax4o8UHQAAAABJRU5ErkJggg==\n",
      "text/plain": [
       "<matplotlib.figure.Figure at 0x22234bf4470>"
      ]
     },
     "metadata": {},
     "output_type": "display_data"
    }
   ],
   "source": [
    "str_params = [str(x) for x in regParams]\n",
    "sns.barplot(str_params, [i for i in out1])\n",
    "\n",
    "plt.xlabel('Regularization Parameter')\n",
    "plt.ylabel('RMSE')"
   ]
  },
  {
   "cell_type": "code",
   "execution_count": 59,
   "metadata": {
    "collapsed": true
   },
   "outputs": [],
   "source": [
    "alphaParams = [0.001, 0.01, 0.1, 1]"
   ]
  },
  {
   "cell_type": "code",
   "execution_count": 60,
   "metadata": {
    "collapsed": true
   },
   "outputs": [],
   "source": [
    "out2 = [evaluator.evaluate(ALS(maxIter=10, regParam=0.1, implicitPrefs=False, alpha=x, rank=10,\n",
    "                              userCol=\"userId\", itemCol=\"movieId\", ratingCol=\"rating\",\n",
    "                              coldStartStrategy=\"drop\", seed=69) \\\n",
    "                            .fit(training).transform(test)) \\\n",
    "                            for x in alphaParams]"
   ]
  },
  {
   "cell_type": "code",
   "execution_count": 67,
   "metadata": {},
   "outputs": [
    {
     "name": "stdout",
     "output_type": "stream",
     "text": [
      "RMSE on Test with Alpha at 0.001 : 0.917396\n",
      "RMSE on Test with Alpha at 0.01 : 0.917396\n",
      "RMSE on Test with Alpha at 0.1 : 0.917396\n",
      "RMSE on Test with Alpha at 1 : 0.917396\n"
     ]
    }
   ],
   "source": [
    "for i,v in enumerate(alphaParams):\n",
    "    print (\"RMSE on Test with Alpha at\", v, \": {:4.6f}\".format(out2[i]))"
   ]
  },
  {
   "cell_type": "code",
   "execution_count": 66,
   "metadata": {},
   "outputs": [
    {
     "data": {
      "text/plain": [
       "Text(0,0.5,'RMSE')"
      ]
     },
     "execution_count": 66,
     "metadata": {},
     "output_type": "execute_result"
    },
    {
     "data": {
      "image/png": "iVBORw0KGgoAAAANSUhEUgAAAYAAAAEFCAYAAADqujDUAAAABHNCSVQICAgIfAhkiAAAAAlwSFlz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\nKQNAkiplAEhSpf4fhJux/zCrLTQAAAAASUVORK5CYII=\n",
      "text/plain": [
       "<matplotlib.figure.Figure at 0x22234d7eb70>"
      ]
     },
     "metadata": {},
     "output_type": "display_data"
    }
   ],
   "source": [
    "str_params = [str(x) for x in alphaParams]\n",
    "sns.barplot(str_params, [i for i in out2])\n",
    "\n",
    "plt.xlabel('Alpha')\n",
    "plt.ylabel('RMSE')"
   ]
  },
  {
   "cell_type": "code",
   "execution_count": 69,
   "metadata": {
    "collapsed": true
   },
   "outputs": [],
   "source": [
    "latent_f = [5,10,15,20]"
   ]
  },
  {
   "cell_type": "code",
   "execution_count": 70,
   "metadata": {
    "collapsed": true
   },
   "outputs": [],
   "source": [
    "out3 = [evaluator.evaluate(ALS(maxIter=10, regParam=0.1, implicitPrefs=False, alpha=1, rank=x,\n",
    "                              userCol=\"userId\", itemCol=\"movieId\", ratingCol=\"rating\",\n",
    "                              coldStartStrategy=\"drop\", seed=69) \\\n",
    "                            .fit(training).transform(test)) \\\n",
    "                            for x in latent_f]"
   ]
  },
  {
   "cell_type": "code",
   "execution_count": 71,
   "metadata": {},
   "outputs": [
    {
     "name": "stdout",
     "output_type": "stream",
     "text": [
      "RMSE on Test with 5 latent factors: 0.914191\n",
      "RMSE on Test with 10 latent factors: 0.917396\n",
      "RMSE on Test with 15 latent factors: 0.915176\n",
      "RMSE on Test with 20 latent factors: 0.913963\n"
     ]
    }
   ],
   "source": [
    "for i,v in enumerate(latent_f):\n",
    "    print (\"RMSE on Test with\", v, \"latent factors: {:4.6f}\".format(out3[i]))"
   ]
  },
  {
   "cell_type": "code",
   "execution_count": 92,
   "metadata": {},
   "outputs": [
    {
     "data": {
      "text/plain": [
       "Text(0,0.5,'RMSE')"
      ]
     },
     "execution_count": 92,
     "metadata": {},
     "output_type": "execute_result"
    },
    {
     "data": {
      "image/png": "iVBORw0KGgoAAAANSUhEUgAAAYsAAAEJCAYAAABlmAtYAAAABHNCSVQICAgIfAhkiAAAAAlwSFlz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\nP7QAAAAASUVORK5CYII=\n",
      "text/plain": [
       "<matplotlib.figure.Figure at 0x222364a0518>"
      ]
     },
     "metadata": {},
     "output_type": "display_data"
    }
   ],
   "source": [
    "str_params = [str(x) for x in latent_f]\n",
    "sns.barplot(str_params, [i for i in out3])\n",
    "plt.ylim(0.91, 0.92)\n",
    "\n",
    "plt.xlabel('Latent Factors')\n",
    "plt.ylabel('RMSE')"
   ]
  },
  {
   "cell_type": "markdown",
   "metadata": {},
   "source": [
    "### Best Params\n",
    "regParam=0.1<br/>alpha=1<br/>rank=20"
   ]
  },
  {
   "cell_type": "code",
   "execution_count": 28,
   "metadata": {
    "collapsed": true
   },
   "outputs": [],
   "source": [
    "als = ALS(maxIter=10, regParam=0.1, implicitPrefs=False, alpha=1, rank=20,\n",
    "                              userCol=\"userId\", itemCol=\"movieId\", ratingCol=\"rating\",\n",
    "                               seed=69)\n",
    "model = als.fit(training)"
   ]
  },
  {
   "cell_type": "code",
   "execution_count": 29,
   "metadata": {
    "collapsed": true
   },
   "outputs": [],
   "source": [
    "# Generate top 10 movie recommendations for each user\n",
    "userRecs = model.recommendForAllUsers(10)\n",
    "# Generate top 10 user recommendations for each movie\n",
    "movieRecs = model.recommendForAllItems(10)"
   ]
  },
  {
   "cell_type": "code",
   "execution_count": 71,
   "metadata": {},
   "outputs": [],
   "source": [
    "ur2 = userRecs.withColumn(\"tmp\", func.explode(\"recommendations\")) \\\n",
    "    .select(userRecs.userId, func.col(\"tmp.movieId\").alias(\"movieid\"), func.col(\"tmp.rating\").alias(\"rating\"))"
   ]
  },
  {
   "cell_type": "code",
   "execution_count": 73,
   "metadata": {},
   "outputs": [],
   "source": [
    "ur_movies = ur2.join(movies, ur2.movieid == movies.movieId)"
   ]
  },
  {
   "cell_type": "code",
   "execution_count": 77,
   "metadata": {},
   "outputs": [
    {
     "name": "stdout",
     "output_type": "stream",
     "text": [
      "+------+----------------------------------------+\n",
      "|userId|title                                   |\n",
      "+------+----------------------------------------+\n",
      "|114   |Crazy Stone (Fengkuang de shitou) (2006)|\n",
      "|114   |Bob Funk (2009)                         |\n",
      "|114   |The War at Home (1979)                  |\n",
      "|114   |Unbeatable (Ji zhan) (2013)             |\n",
      "|114   |Octopus, The (Le poulpe) (1998)         |\n",
      "|114   |I Belong (Som du ser meg) (2012)        |\n",
      "|114   |Björk: Volumen (1999)                   |\n",
      "|114   |Freedom Song (2000)                     |\n",
      "|114   |Moth, The (Cma) (1980)                  |\n",
      "|114   |Bill Hicks: Sane Man (1989)             |\n",
      "|173   |Kevin Smith: Too Fat For 40 (2010)      |\n",
      "|173   |Smashing Pumpkins: Vieuphoria (1994)    |\n",
      "|173   |Drained (O cheiro do Ralo) (2006)       |\n",
      "|173   |Mutant Aliens (2001)                    |\n",
      "|173   |Yesterday Was a Lie (2008)              |\n",
      "|173   |Bill Hicks: Sane Man (1989)             |\n",
      "|173   |Code Name Coq Rouge (1989)              |\n",
      "|173   |Doggiewoggiez! Poochiewoochiez! (2012)  |\n",
      "|173   |Plastic Bag (2009)                      |\n",
      "|173   |Hellhounds on My Trail (1999)           |\n",
      "+------+----------------------------------------+\n",
      "only showing top 20 rows\n",
      "\n"
     ]
    }
   ],
   "source": [
    "ur_movies.select(ur_movies.userId, ur_movies.title).show(truncate=False)"
   ]
  }
 ],
 "metadata": {
  "kernelspec": {
   "display_name": "Python 3",
   "language": "python",
   "name": "python3"
  },
  "language_info": {
   "codemirror_mode": {
    "name": "ipython",
    "version": 3
   },
   "file_extension": ".py",
   "mimetype": "text/x-python",
   "name": "python",
   "nbconvert_exporter": "python",
   "pygments_lexer": "ipython3",
   "version": "3.6.3"
  }
 },
 "nbformat": 4,
 "nbformat_minor": 2
}
