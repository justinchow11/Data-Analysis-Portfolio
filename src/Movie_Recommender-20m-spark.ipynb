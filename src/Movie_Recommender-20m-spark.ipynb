{
 "cells": [
  {
   "cell_type": "markdown",
   "metadata": {},
   "source": [
    "# Latent Factor Collaborative Filtering Recommender System - \n",
    "## MovieLens Database"
   ]
  },
  {
   "cell_type": "code",
   "execution_count": 3,
   "metadata": {
    "collapsed": true
   },
   "outputs": [],
   "source": [
    "import os\n",
    "import pandas as pd\n",
    "import math\n",
    "import numpy as np\n",
    "import matplotlib.pyplot as plt\n",
    "from sklearn.metrics.pairwise import cosine_similarity\n",
    "from sklearn.metrics import pairwise_distances\n",
    "import seaborn as sns; sns.set(style=\"white\", color_codes=True)\n",
    "from sklearn.metrics import mean_squared_error\n",
    "%matplotlib inline"
   ]
  },
  {
   "cell_type": "markdown",
   "metadata": {},
   "source": [
    "### Data"
   ]
  },
  {
   "cell_type": "markdown",
   "metadata": {
    "collapsed": true
   },
   "source": [
    "MovieLens 1M Dataset\n",
    "Stable benchmark dataset. 1 million ratings from 6000 users on 4000 movies. Released 2/2003.\n",
    "\n",
    "README.txt\n",
    "ml-1m.zip (size: 6 MB, checksum)\n",
    "Permalink: http://grouplens.org/datasets/movielens/1m/"
   ]
  },
  {
   "cell_type": "markdown",
   "metadata": {},
   "source": [
    "### Read In Data"
   ]
  },
  {
   "cell_type": "code",
   "execution_count": 4,
   "metadata": {
    "collapsed": true
   },
   "outputs": [],
   "source": [
    "user_movies = pd.read_csv('data/ratings20.csv')"
   ]
  },
  {
   "cell_type": "code",
   "execution_count": 5,
   "metadata": {},
   "outputs": [
    {
     "data": {
      "text/html": [
       "<div>\n",
       "<style>\n",
       "    .dataframe thead tr:only-child th {\n",
       "        text-align: right;\n",
       "    }\n",
       "\n",
       "    .dataframe thead th {\n",
       "        text-align: left;\n",
       "    }\n",
       "\n",
       "    .dataframe tbody tr th {\n",
       "        vertical-align: top;\n",
       "    }\n",
       "</style>\n",
       "<table border=\"1\" class=\"dataframe\">\n",
       "  <thead>\n",
       "    <tr style=\"text-align: right;\">\n",
       "      <th></th>\n",
       "      <th>userid</th>\n",
       "      <th>movieid</th>\n",
       "      <th>rating</th>\n",
       "      <th>timestamp</th>\n",
       "    </tr>\n",
       "  </thead>\n",
       "  <tbody>\n",
       "    <tr>\n",
       "      <th>0</th>\n",
       "      <td>1</td>\n",
       "      <td>2</td>\n",
       "      <td>3.5</td>\n",
       "      <td>1112486027</td>\n",
       "    </tr>\n",
       "    <tr>\n",
       "      <th>1</th>\n",
       "      <td>1</td>\n",
       "      <td>29</td>\n",
       "      <td>3.5</td>\n",
       "      <td>1112484676</td>\n",
       "    </tr>\n",
       "    <tr>\n",
       "      <th>2</th>\n",
       "      <td>1</td>\n",
       "      <td>32</td>\n",
       "      <td>3.5</td>\n",
       "      <td>1112484819</td>\n",
       "    </tr>\n",
       "    <tr>\n",
       "      <th>3</th>\n",
       "      <td>1</td>\n",
       "      <td>47</td>\n",
       "      <td>3.5</td>\n",
       "      <td>1112484727</td>\n",
       "    </tr>\n",
       "    <tr>\n",
       "      <th>4</th>\n",
       "      <td>1</td>\n",
       "      <td>50</td>\n",
       "      <td>3.5</td>\n",
       "      <td>1112484580</td>\n",
       "    </tr>\n",
       "    <tr>\n",
       "      <th>5</th>\n",
       "      <td>1</td>\n",
       "      <td>112</td>\n",
       "      <td>3.5</td>\n",
       "      <td>1094785740</td>\n",
       "    </tr>\n",
       "    <tr>\n",
       "      <th>6</th>\n",
       "      <td>1</td>\n",
       "      <td>151</td>\n",
       "      <td>4.0</td>\n",
       "      <td>1094785734</td>\n",
       "    </tr>\n",
       "    <tr>\n",
       "      <th>7</th>\n",
       "      <td>1</td>\n",
       "      <td>223</td>\n",
       "      <td>4.0</td>\n",
       "      <td>1112485573</td>\n",
       "    </tr>\n",
       "    <tr>\n",
       "      <th>8</th>\n",
       "      <td>1</td>\n",
       "      <td>253</td>\n",
       "      <td>4.0</td>\n",
       "      <td>1112484940</td>\n",
       "    </tr>\n",
       "    <tr>\n",
       "      <th>9</th>\n",
       "      <td>1</td>\n",
       "      <td>260</td>\n",
       "      <td>4.0</td>\n",
       "      <td>1112484826</td>\n",
       "    </tr>\n",
       "    <tr>\n",
       "      <th>10</th>\n",
       "      <td>1</td>\n",
       "      <td>293</td>\n",
       "      <td>4.0</td>\n",
       "      <td>1112484703</td>\n",
       "    </tr>\n",
       "    <tr>\n",
       "      <th>11</th>\n",
       "      <td>1</td>\n",
       "      <td>296</td>\n",
       "      <td>4.0</td>\n",
       "      <td>1112484767</td>\n",
       "    </tr>\n",
       "    <tr>\n",
       "      <th>12</th>\n",
       "      <td>1</td>\n",
       "      <td>318</td>\n",
       "      <td>4.0</td>\n",
       "      <td>1112484798</td>\n",
       "    </tr>\n",
       "    <tr>\n",
       "      <th>13</th>\n",
       "      <td>1</td>\n",
       "      <td>337</td>\n",
       "      <td>3.5</td>\n",
       "      <td>1094785709</td>\n",
       "    </tr>\n",
       "    <tr>\n",
       "      <th>14</th>\n",
       "      <td>1</td>\n",
       "      <td>367</td>\n",
       "      <td>3.5</td>\n",
       "      <td>1112485980</td>\n",
       "    </tr>\n",
       "  </tbody>\n",
       "</table>\n",
       "</div>"
      ],
      "text/plain": [
       "    userid  movieid  rating   timestamp\n",
       "0        1        2     3.5  1112486027\n",
       "1        1       29     3.5  1112484676\n",
       "2        1       32     3.5  1112484819\n",
       "3        1       47     3.5  1112484727\n",
       "4        1       50     3.5  1112484580\n",
       "5        1      112     3.5  1094785740\n",
       "6        1      151     4.0  1094785734\n",
       "7        1      223     4.0  1112485573\n",
       "8        1      253     4.0  1112484940\n",
       "9        1      260     4.0  1112484826\n",
       "10       1      293     4.0  1112484703\n",
       "11       1      296     4.0  1112484767\n",
       "12       1      318     4.0  1112484798\n",
       "13       1      337     3.5  1094785709\n",
       "14       1      367     3.5  1112485980"
      ]
     },
     "execution_count": 5,
     "metadata": {},
     "output_type": "execute_result"
    }
   ],
   "source": [
    "user_movies.columns = ['userid', 'movieid', 'rating', 'timestamp']\n",
    "user_movies.head(15)"
   ]
  },
  {
   "cell_type": "markdown",
   "metadata": {},
   "source": [
    "#### Check for multiple ratings by same user for same movie"
   ]
  },
  {
   "cell_type": "code",
   "execution_count": 66,
   "metadata": {},
   "outputs": [
    {
     "data": {
      "text/html": [
       "<div>\n",
       "<style>\n",
       "    .dataframe thead tr:only-child th {\n",
       "        text-align: right;\n",
       "    }\n",
       "\n",
       "    .dataframe thead th {\n",
       "        text-align: left;\n",
       "    }\n",
       "\n",
       "    .dataframe tbody tr th {\n",
       "        vertical-align: top;\n",
       "    }\n",
       "</style>\n",
       "<table border=\"1\" class=\"dataframe\">\n",
       "  <thead>\n",
       "    <tr style=\"text-align: right;\">\n",
       "      <th></th>\n",
       "      <th>userid</th>\n",
       "      <th>movieid</th>\n",
       "      <th>rating</th>\n",
       "      <th>timestamp</th>\n",
       "    </tr>\n",
       "  </thead>\n",
       "  <tbody>\n",
       "  </tbody>\n",
       "</table>\n",
       "</div>"
      ],
      "text/plain": [
       "Empty DataFrame\n",
       "Columns: [userid, movieid, rating, timestamp]\n",
       "Index: []"
      ]
     },
     "execution_count": 66,
     "metadata": {},
     "output_type": "execute_result"
    }
   ],
   "source": [
    "### Group by user\n",
    "user_movies[user_movies.duplicated(subset=['userid', 'movieid'])==True]"
   ]
  },
  {
   "cell_type": "markdown",
   "metadata": {},
   "source": [
    "##### Check Distribution of Ratings"
   ]
  },
  {
   "cell_type": "code",
   "execution_count": 67,
   "metadata": {},
   "outputs": [
    {
     "data": {
      "image/png": "[encoded data removed]",
      "text/plain": [
       "<matplotlib.figure.Figure at 0x1d880129a20>"
      ]
     },
     "metadata": {},
     "output_type": "display_data"
    }
   ],
   "source": [
    "fig = plt.figure(figsize=(10,5))\n",
    "ax = fig.add_subplot(121)\n",
    "ax.hist(user_movies['rating'], bins=[0.9, 1.1, 1.9, 2.1, 2.9, 3.1, 3.9, 4.1, 4.9, 5.1])\n",
    "ax.set_xlabel('movie rating', fontsize=15)\n",
    "\n",
    "# mean ratings from each user\n",
    "mean_rating_of_user = user_movies.groupby('userid').apply(lambda x: x['rating'].mean())\n",
    "ax = fig.add_subplot(122)\n",
    "ax.hist(mean_rating_of_user)\n",
    "ax.set_xlabel('mean rating given by each user', fontsize=15)\n",
    "plt.tight_layout()\n",
    "plt.show()"
   ]
  },
  {
   "cell_type": "markdown",
   "metadata": {
    "collapsed": true
   },
   "source": [
    "The distribution is somewhat skewed towards positive reviews, so we will apply normalization to reduce the effect of magnitude"
   ]
  },
  {
   "cell_type": "markdown",
   "metadata": {
    "collapsed": true
   },
   "source": [
    "#### Number of reviews and movies"
   ]
  },
  {
   "cell_type": "code",
   "execution_count": 12,
   "metadata": {},
   "outputs": [
    {
     "name": "stdout",
     "output_type": "stream",
     "text": [
      "138493 users\n",
      "26744 movies\n"
     ]
    }
   ],
   "source": [
    "n_users = user_movies['userid'].unique().shape[0]\n",
    "n_items = user_movies['movieid'].unique().shape[0]\n",
    "print(str(n_users) + ' users')\n",
    "print(str(n_items) + ' movies')"
   ]
  },
  {
   "cell_type": "code",
   "execution_count": 14,
   "metadata": {},
   "outputs": [
    {
     "data": {
      "text/plain": [
       "(20000263, 4)"
      ]
     },
     "execution_count": 14,
     "metadata": {},
     "output_type": "execute_result"
    }
   ],
   "source": [
    "user_movies.shape"
   ]
  },
  {
   "cell_type": "markdown",
   "metadata": {},
   "source": [
    "##### Construct User-movie Matrix"
   ]
  },
  {
   "cell_type": "code",
   "execution_count": 15,
   "metadata": {
    "collapsed": true
   },
   "outputs": [],
   "source": [
    "import scipy.sparse as sparse\n",
    "\n",
    "def create_sparse(df):\n",
    "#     users_list = list(df['userid'])\n",
    "#     movieid_list = list(df['movieid'])\n",
    "#     rating_list = list(df['rating'])\n",
    "    \n",
    "    users = list(np.sort(df['userid'].unique()))\n",
    "    movieids = list(df['movieid'].unique())\n",
    "    ratings = list(df['rating'])\n",
    "\n",
    "    rows = df['userid'].astype('category', categories = users).cat.codes\n",
    "    cols = df['movieid'].astype('category', categories = movieids).cat.codes\n",
    "\n",
    "    \n",
    "#     return sparse.csr_matrix((rating_list, (users_list, movieid_list)))\n",
    "    return sparse.csr_matrix((ratings, (rows, cols)), \n",
    "                            shape=(len(users), len(movieids)))"
   ]
  },
  {
   "cell_type": "code",
   "execution_count": 16,
   "metadata": {},
   "outputs": [
    {
     "data": {
      "text/plain": [
       "(138493, 26744)"
      ]
     },
     "execution_count": 16,
     "metadata": {},
     "output_type": "execute_result"
    }
   ],
   "source": [
    "ratings_sparse = create_sparse(user_movies)\n",
    "ratings_sparse.shape"
   ]
  },
  {
   "cell_type": "code",
   "execution_count": 17,
   "metadata": {},
   "outputs": [
    {
     "name": "stdout",
     "output_type": "stream",
     "text": [
      "  (0, 0)\t3.5\n",
      "  (0, 1)\t3.5\n",
      "  (0, 2)\t3.5\n",
      "  (0, 3)\t3.5\n",
      "  (0, 4)\t3.5\n",
      "  (0, 5)\t3.5\n",
      "  (0, 6)\t4.0\n",
      "  (0, 7)\t4.0\n",
      "  (0, 8)\t4.0\n",
      "  (0, 9)\t4.0\n",
      "  (0, 10)\t4.0\n",
      "  (0, 11)\t4.0\n",
      "  (0, 12)\t4.0\n",
      "  (0, 13)\t3.5\n",
      "  (0, 14)\t3.5\n",
      "  (0, 15)\t4.0\n",
      "  (0, 16)\t3.5\n",
      "  (0, 17)\t3.5\n",
      "  (0, 18)\t3.0\n",
      "  (0, 19)\t3.5\n",
      "  (0, 20)\t3.5\n",
      "  (0, 21)\t3.5\n",
      "  (0, 22)\t4.0\n",
      "  (0, 23)\t4.0\n",
      "  (0, 24)\t3.5\n",
      "  :\t:\n",
      "  (138492, 5844)\t3.0\n",
      "  (138492, 5970)\t5.0\n",
      "  (138492, 6121)\t4.5\n",
      "  (138492, 6156)\t4.5\n",
      "  (138492, 6565)\t3.5\n",
      "  (138492, 6591)\t5.0\n",
      "  (138492, 7124)\t5.0\n",
      "  (138492, 7315)\t3.5\n",
      "  (138492, 7421)\t4.0\n",
      "  (138492, 7557)\t4.0\n",
      "  (138492, 7717)\t4.0\n",
      "  (138492, 7722)\t4.5\n",
      "  (138492, 7733)\t4.5\n",
      "  (138492, 7953)\t5.0\n",
      "  (138492, 8056)\t5.0\n",
      "  (138492, 8233)\t5.0\n",
      "  (138492, 8890)\t5.0\n",
      "  (138492, 9527)\t4.0\n",
      "  (138492, 9547)\t4.5\n",
      "  (138492, 9648)\t4.5\n",
      "  (138492, 9787)\t4.5\n",
      "  (138492, 10743)\t4.5\n",
      "  (138492, 11011)\t4.5\n",
      "  (138492, 11504)\t5.0\n",
      "  (138492, 11614)\t4.5\n"
     ]
    }
   ],
   "source": [
    "print(ratings_sparse)"
   ]
  },
  {
   "cell_type": "markdown",
   "metadata": {},
   "source": [
    "##### Check user-item matrix sparsity"
   ]
  },
  {
   "cell_type": "code",
   "execution_count": 18,
   "metadata": {},
   "outputs": [
    {
     "name": "stdout",
     "output_type": "stream",
     "text": [
      "99.46001521864456\n"
     ]
    }
   ],
   "source": [
    "def get_sparsity(sparse_mat):\n",
    "    matrix_size = sparse_mat.shape[0] * sparse_mat.shape[1] # Number of possible interactions in the matrix\n",
    "    num_purchases = len(sparse_mat.nonzero()[0]) # Number of items interacted with\n",
    "    sparsity = 100 * (1 - (num_purchases / matrix_size))\n",
    "    \n",
    "    return sparsity\n",
    "\n",
    "print(get_sparsity(ratings_sparse))"
   ]
  },
  {
   "cell_type": "markdown",
   "metadata": {},
   "source": [
    "Not bad. Our user-movies matrix consists of 99.46% unfilled entries. Let's experiment with reducing the sparsity using the N-core method, i.e. each user will have rated at least N movies and each movie will have at least N reviews."
   ]
  },
  {
   "cell_type": "markdown",
   "metadata": {
    "collapsed": true
   },
   "source": [
    "##### Check Distribution on Number of Items Rated by Users and Items Rated by Number of Users"
   ]
  },
  {
   "cell_type": "code",
   "execution_count": 21,
   "metadata": {
    "collapsed": true
   },
   "outputs": [],
   "source": [
    "min_rated_items = ratings_sparse.nonzero()[0]\n",
    "min_rated_items_collection = {}\n",
    "for i in min_rated_items:\n",
    "    if i in min_rated_items_collection:\n",
    "        min_rated_items_collection[i] = min_rated_items_collection[i] + 1\n",
    "    else:\n",
    "        min_rated_items_collection[i] = 1"
   ]
  },
  {
   "cell_type": "code",
   "execution_count": 22,
   "metadata": {},
   "outputs": [
    {
     "name": "stdout",
     "output_type": "stream",
     "text": [
      "Users rated  9254 movies at the most\n",
      "Users rated  20 movies at the least\n"
     ]
    }
   ],
   "source": [
    "user_rate_count = sorted(min_rated_items_collection.items(), key = lambda x:x[1])\n",
    "print('Users rated ', user_rate_count[-1][1], 'movies at the most')\n",
    "print('Users rated ', user_rate_count[0][1], 'movies at the least')"
   ]
  },
  {
   "cell_type": "code",
   "execution_count": 23,
   "metadata": {
    "collapsed": true
   },
   "outputs": [],
   "source": [
    "min_rate_by_users = ratings_sparse.nonzero()[1]\n",
    "min_rate_by_users_collection = {}\n",
    "for i in min_rate_by_users:\n",
    "    if i in min_rate_by_users_collection:\n",
    "        min_rate_by_users_collection[i] = min_rate_by_users_collection[i] + 1\n",
    "    else:\n",
    "        min_rate_by_users_collection[i] = 1\n",
    "item_rate_count = sorted(min_rate_by_users_collection.items(), key = lambda x:x[1])"
   ]
  },
  {
   "cell_type": "code",
   "execution_count": 24,
   "metadata": {},
   "outputs": [
    {
     "name": "stdout",
     "output_type": "stream",
     "text": [
      "Item rated by  67310  users at the most\n",
      "Item rated by  1  users at the least\n"
     ]
    }
   ],
   "source": [
    "print ('Item rated by ', item_rate_count[-1][1], ' users at the most')\n",
    "print ('Item rated by ', item_rate_count[0][1], ' users at the least')"
   ]
  },
  {
   "cell_type": "markdown",
   "metadata": {},
   "source": [
    "**Because the data is so large, I will have to reduce sparsity while the data is in pandas**"
   ]
  },
  {
   "cell_type": "markdown",
   "metadata": {},
   "source": [
    "#### Count of ratings per user\n",
    "Dataframe shows how many times people reviewed x items.\n",
    "eg, 4485 users submitted 20 reviews total"
   ]
  },
  {
   "cell_type": "code",
   "execution_count": 25,
   "metadata": {},
   "outputs": [
    {
     "data": {
      "text/html": [
       "<div>\n",
       "<style>\n",
       "    .dataframe thead tr:only-child th {\n",
       "        text-align: right;\n",
       "    }\n",
       "\n",
       "    .dataframe thead th {\n",
       "        text-align: left;\n",
       "    }\n",
       "\n",
       "    .dataframe tbody tr th {\n",
       "        vertical-align: top;\n",
       "    }\n",
       "</style>\n",
       "<table border=\"1\" class=\"dataframe\">\n",
       "  <thead>\n",
       "    <tr style=\"text-align: right;\">\n",
       "      <th></th>\n",
       "      <th>count of reviews</th>\n",
       "      <th>count</th>\n",
       "    </tr>\n",
       "  </thead>\n",
       "  <tbody>\n",
       "    <tr>\n",
       "      <th>0</th>\n",
       "      <td>20</td>\n",
       "      <td>4485</td>\n",
       "    </tr>\n",
       "    <tr>\n",
       "      <th>1</th>\n",
       "      <td>21</td>\n",
       "      <td>3104</td>\n",
       "    </tr>\n",
       "    <tr>\n",
       "      <th>2</th>\n",
       "      <td>22</td>\n",
       "      <td>2832</td>\n",
       "    </tr>\n",
       "    <tr>\n",
       "      <th>3</th>\n",
       "      <td>23</td>\n",
       "      <td>2641</td>\n",
       "    </tr>\n",
       "    <tr>\n",
       "      <th>4</th>\n",
       "      <td>25</td>\n",
       "      <td>2399</td>\n",
       "    </tr>\n",
       "    <tr>\n",
       "      <th>5</th>\n",
       "      <td>24</td>\n",
       "      <td>2365</td>\n",
       "    </tr>\n",
       "    <tr>\n",
       "      <th>6</th>\n",
       "      <td>26</td>\n",
       "      <td>2164</td>\n",
       "    </tr>\n",
       "    <tr>\n",
       "      <th>7</th>\n",
       "      <td>27</td>\n",
       "      <td>2016</td>\n",
       "    </tr>\n",
       "    <tr>\n",
       "      <th>8</th>\n",
       "      <td>28</td>\n",
       "      <td>2016</td>\n",
       "    </tr>\n",
       "    <tr>\n",
       "      <th>9</th>\n",
       "      <td>30</td>\n",
       "      <td>1934</td>\n",
       "    </tr>\n",
       "  </tbody>\n",
       "</table>\n",
       "</div>"
      ],
      "text/plain": [
       "   count of reviews  count\n",
       "0                20   4485\n",
       "1                21   3104\n",
       "2                22   2832\n",
       "3                23   2641\n",
       "4                25   2399\n",
       "5                24   2365\n",
       "6                26   2164\n",
       "7                27   2016\n",
       "8                28   2016\n",
       "9                30   1934"
      ]
     },
     "execution_count": 25,
     "metadata": {},
     "output_type": "execute_result"
    }
   ],
   "source": [
    "# user_movies.groupby(['userid']).size().reset_index(name='review_counts').sort_values('review_counts')\n",
    "temp = user_movies.groupby(['userid']).size().reset_index(name='review_counts')['review_counts'] \\\n",
    "            .value_counts(ascending=False).reset_index(name='counts').head(20)\n",
    "temp.columns = ['count of reviews','count']\n",
    "temp.head(10)"
   ]
  },
  {
   "cell_type": "markdown",
   "metadata": {},
   "source": [
    "Dataframe shows the number of reviews a movie received"
   ]
  },
  {
   "cell_type": "code",
   "execution_count": 26,
   "metadata": {},
   "outputs": [
    {
     "data": {
      "text/plain": [
       "8268        1\n",
       "3096        1\n",
       "1065        1\n",
       "13359       1\n",
       "3192        1\n",
       "3208        1\n",
       "1161        1\n",
       "3224        1\n",
       "3048        1\n",
       "40106       1\n",
       "17617       1\n",
       "3288        1\n",
       "1241        1\n",
       "3304        1\n",
       "5355        1\n",
       "1273        1\n",
       "7418        1\n",
       "5291        1\n",
       "1289        1\n",
       "3032        1\n",
       "11196       1\n",
       "4827        1\n",
       "2792        1\n",
       "777         1\n",
       "825         1\n",
       "4923        1\n",
       "2888        1\n",
       "857         1\n",
       "15310       1\n",
       "2920        1\n",
       "         ... \n",
       "31         92\n",
       "24         96\n",
       "26         97\n",
       "23         98\n",
       "35        101\n",
       "29        105\n",
       "28        112\n",
       "25        114\n",
       "22        124\n",
       "21        139\n",
       "20        143\n",
       "19        143\n",
       "18        164\n",
       "16        173\n",
       "15        190\n",
       "17        195\n",
       "14        234\n",
       "13        264\n",
       "12        290\n",
       "11        294\n",
       "10        372\n",
       "9         385\n",
       "8         462\n",
       "7         574\n",
       "6         647\n",
       "5         826\n",
       "4        1029\n",
       "3        1355\n",
       "2        2043\n",
       "1        3972\n",
       "Name: movie_counts, Length: 3423, dtype: int64"
      ]
     },
     "execution_count": 26,
     "metadata": {},
     "output_type": "execute_result"
    }
   ],
   "source": [
    "user_movies.groupby(['movieid']).size().reset_index(name='movie_counts')['movie_counts'] \\\n",
    "            .value_counts(ascending=True)"
   ]
  },
  {
   "cell_type": "code",
   "execution_count": 27,
   "metadata": {
    "collapsed": true
   },
   "outputs": [],
   "source": [
    "counts_m = user_movies['movieid'].value_counts()\n",
    "counts_u = user_movies['userid'].value_counts()"
   ]
  },
  {
   "cell_type": "markdown",
   "metadata": {},
   "source": [
    "### Experimenting with several sparsity modifiers"
   ]
  },
  {
   "cell_type": "markdown",
   "metadata": {},
   "source": [
    "#### Baseline"
   ]
  },
  {
   "cell_type": "code",
   "execution_count": 47,
   "metadata": {},
   "outputs": [
    {
     "name": "stdout",
     "output_type": "stream",
     "text": [
      "After applying the filter, there are 138493 users left\n",
      "After applying the filter, there are 26744 items left\n",
      "Sparsity: 99.46%\n"
     ]
    }
   ],
   "source": [
    "print(\"After applying the filter, there are\", ratings_sparse.shape[0], \"users left\")\n",
    "print(\"After applying the filter, there are\", ratings_sparse.shape[1], \"items left\")\n",
    "print('Sparsity: {:4.2f}%'.format(get_sparsity(ratings_sparse)))"
   ]
  },
  {
   "cell_type": "markdown",
   "metadata": {},
   "source": [
    "##### At least 100 reviews per movie and 20 reviews per user"
   ]
  },
  {
   "cell_type": "code",
   "execution_count": 39,
   "metadata": {
    "collapsed": true
   },
   "outputs": [],
   "source": [
    "short_user_movies = user_movies[(user_movies['movieid'].isin(counts_m[counts_m > 100].index)) & \\\n",
    "                                (user_movies['userid'].isin(counts_u[counts_u > 20].index))]\n",
    "ratings_sparse2 = create_sparse(short_user_movies)"
   ]
  },
  {
   "cell_type": "code",
   "execution_count": 41,
   "metadata": {},
   "outputs": [
    {
     "name": "stdout",
     "output_type": "stream",
     "text": [
      "After applying the filter, there are 134008 users left\n",
      "After applying the filter, there are 8532 items left\n",
      "Sparsity: 98.28%\n"
     ]
    }
   ],
   "source": [
    "print(\"After applying the filter, there are\", ratings_sparse2.shape[0], \"users left\")\n",
    "print(\"After applying the filter, there are\", ratings_sparse2.shape[1], \"items left\")\n",
    "print('Sparsity: {:4.2f}%'.format(get_sparsity(ratings_sparse2)))"
   ]
  },
  {
   "cell_type": "markdown",
   "metadata": {},
   "source": [
    "##### At least 200 reviews per movie and 40 reviews per user"
   ]
  },
  {
   "cell_type": "code",
   "execution_count": 42,
   "metadata": {
    "collapsed": true
   },
   "outputs": [],
   "source": [
    "short_user_movies = user_movies[(user_movies['movieid'].isin(counts_m[counts_m > 200].index)) & \\\n",
    "                                (user_movies['userid'].isin(counts_u[counts_u > 40].index))]\n",
    "ratings_sparse2 = create_sparse(short_user_movies)"
   ]
  },
  {
   "cell_type": "code",
   "execution_count": 44,
   "metadata": {
    "scrolled": true
   },
   "outputs": [
    {
     "name": "stdout",
     "output_type": "stream",
     "text": [
      "After applying the filter, there are 95482 users left\n",
      "After applying the filter, there are 6744 items left\n",
      "Sparsity: 97.17%\n"
     ]
    }
   ],
   "source": [
    "print(\"After applying the filter, there are\", ratings_sparse2.shape[0], \"users left\")\n",
    "print(\"After applying the filter, there are\", ratings_sparse2.shape[1], \"items left\")\n",
    "print('Sparsity: {:4.2f}%'.format(get_sparsity(ratings_sparse2)))"
   ]
  },
  {
   "cell_type": "markdown",
   "metadata": {},
   "source": [
    "##### At least 400 reviews per movie and 80 reviews per user"
   ]
  },
  {
   "cell_type": "code",
   "execution_count": 48,
   "metadata": {
    "collapsed": true
   },
   "outputs": [],
   "source": [
    "short_user_movies = user_movies[(user_movies['movieid'].isin(counts_m[counts_m > 400].index)) & \\\n",
    "                                (user_movies['userid'].isin(counts_u[counts_u > 80].index))]\n",
    "ratings_sparse2 = create_sparse(short_user_movies)"
   ]
  },
  {
   "cell_type": "code",
   "execution_count": 49,
   "metadata": {
    "scrolled": true
   },
   "outputs": [
    {
     "name": "stdout",
     "output_type": "stream",
     "text": [
      "After applying the filter, there are 61262 users left\n",
      "After applying the filter, there are 5003 items left\n",
      "Sparsity: 94.84%\n"
     ]
    }
   ],
   "source": [
    "print(\"After applying the filter, there are\", ratings_sparse2.shape[0], \"users left\")\n",
    "print(\"After applying the filter, there are\", ratings_sparse2.shape[1], \"items left\")\n",
    "print('Sparsity: {:4.2f}%'.format(get_sparsity(ratings_sparse2)))"
   ]
  },
  {
   "cell_type": "markdown",
   "metadata": {},
   "source": [
    "As we increase the filtering criteria, our sparsity decreases, but the total size of user-item matrix dramatically decreases. We will proceed with the original sparse matrix"
   ]
  },
  {
   "cell_type": "markdown",
   "metadata": {},
   "source": [
    "## Latent Factor Based Methods"
   ]
  },
  {
   "cell_type": "markdown",
   "metadata": {},
   "source": [
    "### ALS"
   ]
  },
  {
   "cell_type": "code",
   "execution_count": 8,
   "metadata": {},
   "outputs": [],
   "source": [
    "from pyspark.shell import spark\n",
    "from pyspark.sql import SparkSession\n",
    "import pyspark.sql.functions as func\n",
    "from pyspark.sql import Row\n",
    "import pyspark.sql.types as typ\n",
    "from pyspark.ml.evaluation import RegressionEvaluator\n",
    "from pyspark.ml.recommendation import ALS\n",
    "\n",
    "spark = SparkSession \\\n",
    "    .builder \\\n",
    "    .appName(\"test\") \\\n",
    "    .getOrCreate()"
   ]
  },
  {
   "cell_type": "code",
   "execution_count": 2,
   "metadata": {
    "collapsed": true
   },
   "outputs": [],
   "source": [
    "ratings_label = [('userId', typ.IntegerType()),\n",
    "                  ('movieId', typ.IntegerType()),\n",
    "                  ('rating', typ.FloatType()),\n",
    "                  ('timestamp', typ.IntegerType())]\n",
    "\n",
    "schema_ratings = typ.StructType([typ.StructField(e[0], e[1]) for e in ratings_label])"
   ]
  },
  {
   "cell_type": "code",
   "execution_count": 3,
   "metadata": {
    "collapsed": true
   },
   "outputs": [],
   "source": [
    "# ratings = spark.read.csv(\"data/ratings20.csv\", schema=schema_ratings, header=True)"
   ]
  },
  {
   "cell_type": "code",
   "execution_count": 68,
   "metadata": {
    "collapsed": true
   },
   "outputs": [],
   "source": [
    "movies = spark.read.csv(\"data/movies20.csv\", header=True)"
   ]
  },
  {
   "cell_type": "code",
   "execution_count": 19,
   "metadata": {
    "collapsed": true
   },
   "outputs": [],
   "source": [
    "movies = movies.select(movies.movieId.alias('movieid2'), movies.title)"
   ]
  },
  {
   "cell_type": "code",
   "execution_count": 20,
   "metadata": {},
   "outputs": [
    {
     "name": "stdout",
     "output_type": "stream",
     "text": [
      "+--------+--------------------+\n",
      "|movieid2|               title|\n",
      "+--------+--------------------+\n",
      "|       1|    Toy Story (1995)|\n",
      "|       2|      Jumanji (1995)|\n",
      "|       3|Grumpier Old Men ...|\n",
      "|       4|Waiting to Exhale...|\n",
      "|       5|Father of the Bri...|\n",
      "+--------+--------------------+\n",
      "only showing top 5 rows\n",
      "\n"
     ]
    }
   ],
   "source": [
    "movies.show(5)"
   ]
  },
  {
   "cell_type": "code",
   "execution_count": 4,
   "metadata": {},
   "outputs": [
    {
     "data": {
      "text/plain": [
       "200"
      ]
     },
     "execution_count": 4,
     "metadata": {},
     "output_type": "execute_result"
    }
   ],
   "source": [
    "# ratings.write.parquet('data/ratings.parquet')\n",
    "ratings = spark.read.parquet('data/ratings20.parquet')\n",
    "ratings = ratings.repartition(200)"
   ]
  },
  {
   "cell_type": "code",
   "execution_count": 24,
   "metadata": {
    "collapsed": true
   },
   "outputs": [],
   "source": [
    "ratings_title = ratings.join(movies, ratings.movieId == movies.movieid2)"
   ]
  },
  {
   "cell_type": "code",
   "execution_count": 26,
   "metadata": {
    "collapsed": true
   },
   "outputs": [],
   "source": [
    "ratings_title = ratings_title.select(ratings_title.userId, ratings_title.movieId,\n",
    "                                     ratings_title.rating, ratings_title.title)"
   ]
  },
  {
   "cell_type": "code",
   "execution_count": 27,
   "metadata": {
    "collapsed": true
   },
   "outputs": [],
   "source": [
    "(training, test) = ratings.randomSplit([0.8, 0.2])\n",
    "training.cache()\n",
    "test.cache()\n",
    "\n",
    "evaluator = RegressionEvaluator(metricName=\"rmse\", labelCol=\"rating\", predictionCol=\"prediction\")"
   ]
  },
  {
   "cell_type": "markdown",
   "metadata": {},
   "source": [
    "### Optimization of ALS Parameters"
   ]
  },
  {
   "cell_type": "code",
   "execution_count": 16,
   "metadata": {
    "collapsed": true
   },
   "outputs": [],
   "source": [
    "regParams = [0.001, 0.01, 0.1, 1]"
   ]
  },
  {
   "cell_type": "code",
   "execution_count": 7,
   "metadata": {
    "collapsed": true
   },
   "outputs": [],
   "source": [
    "out1 = [evaluator.evaluate(ALS(maxIter=10, regParam=x, implicitPrefs=False, alpha=1, rank=10,\n",
    "                              userCol=\"userId\", itemCol=\"movieId\", ratingCol=\"rating\",\n",
    "                              coldStartStrategy=\"drop\", seed=69) \\\n",
    "                            .fit(training).transform(test)) \\\n",
    "                            for x in regParams]"
   ]
  },
  {
   "cell_type": "code",
   "execution_count": 64,
   "metadata": {},
   "outputs": [
    {
     "name": "stdout",
     "output_type": "stream",
     "text": [
      "RMSE on Test with Regularization at 0.001 : 1.338930\n",
      "RMSE on Test with Regularization at 0.01 : 1.162142\n",
      "RMSE on Test with Regularization at 0.1 : 0.917396\n",
      "RMSE on Test with Regularization at 1 : 1.332803\n"
     ]
    }
   ],
   "source": [
    "for i,v in enumerate(regParams):\n",
    "    print (\"RMSE on Test with Regularization at\", v, \": {:4.6f}\".format(out1[i]))"
   ]
  },
  {
   "cell_type": "code",
   "execution_count": 57,
   "metadata": {},
   "outputs": [
    {
     "data": {
      "text/plain": [
       "Text(0,0.5,'RMSE')"
      ]
     },
     "execution_count": 57,
     "metadata": {},
     "output_type": "execute_result"
    },
    {
     "data": {
      "image/png": "[encoded data removed]",
      "text/plain": [
       "<matplotlib.figure.Figure at 0x22234bf4470>"
      ]
     },
     "metadata": {},
     "output_type": "display_data"
    }
   ],
   "source": [
    "str_params = [str(x) for x in regParams]\n",
    "sns.barplot(str_params, [i for i in out1])\n",
    "\n",
    "plt.xlabel('Regularization Parameter')\n",
    "plt.ylabel('RMSE')"
   ]
  },
  {
   "cell_type": "code",
   "execution_count": 59,
   "metadata": {
    "collapsed": true
   },
   "outputs": [],
   "source": [
    "alphaParams = [0.001, 0.01, 0.1, 1]"
   ]
  },
  {
   "cell_type": "code",
   "execution_count": 60,
   "metadata": {
    "collapsed": true
   },
   "outputs": [],
   "source": [
    "out2 = [evaluator.evaluate(ALS(maxIter=10, regParam=0.1, implicitPrefs=False, alpha=x, rank=10,\n",
    "                              userCol=\"userId\", itemCol=\"movieId\", ratingCol=\"rating\",\n",
    "                              coldStartStrategy=\"drop\", seed=69) \\\n",
    "                            .fit(training).transform(test)) \\\n",
    "                            for x in alphaParams]"
   ]
  },
  {
   "cell_type": "code",
   "execution_count": 67,
   "metadata": {},
   "outputs": [
    {
     "name": "stdout",
     "output_type": "stream",
     "text": [
      "RMSE on Test with Alpha at 0.001 : 0.917396\n",
      "RMSE on Test with Alpha at 0.01 : 0.917396\n",
      "RMSE on Test with Alpha at 0.1 : 0.917396\n",
      "RMSE on Test with Alpha at 1 : 0.917396\n"
     ]
    }
   ],
   "source": [
    "for i,v in enumerate(alphaParams):\n",
    "    print (\"RMSE on Test with Alpha at\", v, \": {:4.6f}\".format(out2[i]))"
   ]
  },
  {
   "cell_type": "code",
   "execution_count": 66,
   "metadata": {},
   "outputs": [
    {
     "data": {
      "text/plain": [
       "Text(0,0.5,'RMSE')"
      ]
     },
     "execution_count": 66,
     "metadata": {},
     "output_type": "execute_result"
    },
    {
     "data": {
      "image/png": "[encoded data removed]",
      "text/plain": [
       "<matplotlib.figure.Figure at 0x22234d7eb70>"
      ]
     },
     "metadata": {},
     "output_type": "display_data"
    }
   ],
   "source": [
    "str_params = [str(x) for x in alphaParams]\n",
    "sns.barplot(str_params, [i for i in out2])\n",
    "\n",
    "plt.xlabel('Alpha')\n",
    "plt.ylabel('RMSE')"
   ]
  },
  {
   "cell_type": "code",
   "execution_count": 69,
   "metadata": {
    "collapsed": true
   },
   "outputs": [],
   "source": [
    "latent_f = [5,10,15,20]"
   ]
  },
  {
   "cell_type": "code",
   "execution_count": 70,
   "metadata": {
    "collapsed": true
   },
   "outputs": [],
   "source": [
    "out3 = [evaluator.evaluate(ALS(maxIter=10, regParam=0.1, implicitPrefs=False, alpha=1, rank=x,\n",
    "                              userCol=\"userId\", itemCol=\"movieId\", ratingCol=\"rating\",\n",
    "                              coldStartStrategy=\"drop\", seed=69) \\\n",
    "                            .fit(training).transform(test)) \\\n",
    "                            for x in latent_f]"
   ]
  },
  {
   "cell_type": "code",
   "execution_count": 71,
   "metadata": {},
   "outputs": [
    {
     "name": "stdout",
     "output_type": "stream",
     "text": [
      "RMSE on Test with 5 latent factors: 0.914191\n",
      "RMSE on Test with 10 latent factors: 0.917396\n",
      "RMSE on Test with 15 latent factors: 0.915176\n",
      "RMSE on Test with 20 latent factors: 0.913963\n"
     ]
    }
   ],
   "source": [
    "for i,v in enumerate(latent_f):\n",
    "    print (\"RMSE on Test with\", v, \"latent factors: {:4.6f}\".format(out3[i]))"
   ]
  },
  {
   "cell_type": "code",
   "execution_count": 92,
   "metadata": {},
   "outputs": [
    {
     "data": {
      "text/plain": [
       "Text(0,0.5,'RMSE')"
      ]
     },
     "execution_count": 92,
     "metadata": {},
     "output_type": "execute_result"
    },
    {
     "data": {
      "image/png": "[encoded data removed]",
      "text/plain": [
       "<matplotlib.figure.Figure at 0x222364a0518>"
      ]
     },
     "metadata": {},
     "output_type": "display_data"
    }
   ],
   "source": [
    "str_params = [str(x) for x in latent_f]\n",
    "sns.barplot(str_params, [i for i in out3])\n",
    "plt.ylim(0.91, 0.92)\n",
    "\n",
    "plt.xlabel('Latent Factors')\n",
    "plt.ylabel('RMSE')"
   ]
  },
  {
   "cell_type": "markdown",
   "metadata": {},
   "source": [
    "### Best Params\n",
    "regParam=0.1<br/>alpha=1<br/>rank=20"
   ]
  },
  {
   "cell_type": "code",
   "execution_count": 28,
   "metadata": {
    "collapsed": true
   },
   "outputs": [],
   "source": [
    "als = ALS(maxIter=10, regParam=0.1, implicitPrefs=False, alpha=1, rank=20,\n",
    "                              userCol=\"userId\", itemCol=\"movieId\", ratingCol=\"rating\",\n",
    "                               seed=69)\n",
    "model = als.fit(training)"
   ]
  },
  {
   "cell_type": "code",
   "execution_count": 29,
   "metadata": {
    "collapsed": true
   },
   "outputs": [],
   "source": [
    "# Generate top 10 movie recommendations for each user\n",
    "userRecs = model.recommendForAllUsers(10)\n",
    "# Generate top 10 user recommendations for each movie\n",
    "movieRecs = model.recommendForAllItems(10)"
   ]
  },
  {
   "cell_type": "code",
   "execution_count": 9,
   "metadata": {},
   "outputs": [],
   "source": [
    "# userRecs.write.parquet('data/userRecs.parquet')\n",
    "# movieRecs.write.parquet('data/movieRecs.parquet')\n",
    "userRecs = spark.read.parquet('data/userRecs.parquet')\n",
    "movieRecs = spark.read.parquet('data/movieRecs.parquet')"
   ]
  },
  {
   "cell_type": "code",
   "execution_count": 71,
   "metadata": {},
   "outputs": [],
   "source": [
    "ur2 = userRecs.withColumn(\"tmp\", func.explode(\"recommendations\")) \\\n",
    "    .select(userRecs.userId, func.col(\"tmp.movieId\").alias(\"movieid\"), func.col(\"tmp.rating\").alias(\"rating\"))"
   ]
  },
  {
   "cell_type": "code",
   "execution_count": 73,
   "metadata": {},
   "outputs": [],
   "source": [
    "ur_movies = ur2.join(movies, ur2.movieid == movies.movieId)"
   ]
  },
  {
   "cell_type": "code",
   "execution_count": 77,
   "metadata": {},
   "outputs": [
    {
     "name": "stdout",
     "output_type": "stream",
     "text": [
      "+------+----------------------------------------+\n",
      "|userId|title                                   |\n",
      "+------+----------------------------------------+\n",
      "|114   |Crazy Stone (Fengkuang de shitou) (2006)|\n",
      "|114   |Bob Funk (2009)                         |\n",
      "|114   |The War at Home (1979)                  |\n",
      "|114   |Unbeatable (Ji zhan) (2013)             |\n",
      "|114   |Octopus, The (Le poulpe) (1998)         |\n",
      "|114   |I Belong (Som du ser meg) (2012)        |\n",
      "|114   |Björk: Volumen (1999)                   |\n",
      "|114   |Freedom Song (2000)                     |\n",
      "|114   |Moth, The (Cma) (1980)                  |\n",
      "|114   |Bill Hicks: Sane Man (1989)             |\n",
      "|173   |Kevin Smith: Too Fat For 40 (2010)      |\n",
      "|173   |Smashing Pumpkins: Vieuphoria (1994)    |\n",
      "|173   |Drained (O cheiro do Ralo) (2006)       |\n",
      "|173   |Mutant Aliens (2001)                    |\n",
      "|173   |Yesterday Was a Lie (2008)              |\n",
      "|173   |Bill Hicks: Sane Man (1989)             |\n",
      "|173   |Code Name Coq Rouge (1989)              |\n",
      "|173   |Doggiewoggiez! Poochiewoochiez! (2012)  |\n",
      "|173   |Plastic Bag (2009)                      |\n",
      "|173   |Hellhounds on My Trail (1999)           |\n",
      "+------+----------------------------------------+\n",
      "only showing top 20 rows\n",
      "\n"
     ]
    }
   ],
   "source": [
    "ur_movies.select(ur_movies.userId, ur_movies.title).show(truncate=False)"
   ]
  }
 ],
 "metadata": {
  "kernelspec": {
   "display_name": "Python 3",
   "language": "python",
   "name": "python3"
  },
  "language_info": {
   "codemirror_mode": {
    "name": "ipython",
    "version": 3
   },
   "file_extension": ".py",
   "mimetype": "text/x-python",
   "name": "python",
   "nbconvert_exporter": "python",
   "pygments_lexer": "ipython3",
   "version": "3.6.3"
  }
 },
 "nbformat": 4,
 "nbformat_minor": 2
}
